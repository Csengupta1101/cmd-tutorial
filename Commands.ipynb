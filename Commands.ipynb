{
 "cells": [
  {
   "attachments": {},
   "cell_type": "markdown",
   "metadata": {},
   "source": [
    "To change a directory we use cd syntax or change directory -\n",
    "\n",
    "    C:\\Users\\sengu>cd Documents\n",
    "\n",
    "To come back to the parent directory we use cd ..\n",
    "\n",
    "    C:\\Users\\sengu\\Documents>cd ..\n",
    "\n",
    "To return to 2 directories back we use cd ../..\n",
    "\n",
    "    C:\\Users\\sengu\\Documents>cd ../..\n",
    "\n",
    "We use \"Tab\" button for auto complete. \n",
    "\n",
    "With dir syntax we are able to see all directories inside of the specific path given\n",
    "\n",
    "    C:\\Users\\sengu>dir\n",
    "    \n",
    "    Volume in drive C is Windows\n",
    "    Volume Serial Number is 0CA4-CD14\n",
    "\n",
    "    Directory of C:\\Users\\sengu\n",
    "\n",
    "    02-04-2023  14:06    <DIR>          .\n",
    "    06-10-2022  15:19    <DIR>          ..\n",
    "    24-03-2022  13:07    <DIR>          .android\n",
    "    08-11-2022  19:07    <DIR>          .astropy\n",
    "    15-12-2022  15:06    <DIR>          .atom\n",
    "    14-12-2022  17:53               421 .bash_history\n",
    "    04-04-2023  22:23    <DIR>          .conda\n",
    "    06-11-2022  14:07                43 .condarc\n",
    "    26-03-2022  09:29    <DIR>          .continuum\n",
    "    24-03-2022  01:46                16 .emulator_console_auth_token\n",
    "    15-12-2022  11:01               193 .gitconfig\n",
    "    08-11-2022  19:08    <DIR>          .glue\n",
    "    24-03-2022  00:10    <DIR>          .gradle\n",
    "    08-12-2022  11:51    <DIR>          .idlerc\n",
    "    06-11-2022  13:27    <DIR>          .ipynb_checkpoints"
   ]
  },
  {
   "attachments": {},
   "cell_type": "markdown",
   "metadata": {},
   "source": [
    "Now we will see how new directory can be added in command line"
   ]
  },
  {
   "cell_type": "markdown",
   "metadata": {},
   "source": []
  }
 ],
 "metadata": {
  "kernelspec": {
   "display_name": "Python 3",
   "language": "python",
   "name": "python3"
  },
  "language_info": {
   "name": "python",
   "version": "3.10.8"
  },
  "orig_nbformat": 4
 },
 "nbformat": 4,
 "nbformat_minor": 2
}
